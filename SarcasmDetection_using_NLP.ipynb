{
  "nbformat": 4,
  "nbformat_minor": 0,
  "metadata": {
    "accelerator": "GPU",
    "colab": {
      "name": "SarcasmDetection_using_NLP",
      "provenance": [],
      "collapsed_sections": []
    },
    "kernelspec": {
      "display_name": "Python 3",
      "name": "python3"
    }
  },
  "cells": [
    {
      "cell_type": "markdown",
      "metadata": {
        "id": "-DvPqCEIdpOS"
      },
      "source": [
        "## Context:\r\n",
        "  - This is Kaggle(News Headlines dataset for Sarcasm Detection) contains 26709 Text_Headlines of News Article with labels of whether they are Sarcastic or not with hyperlink of the articles from where the comment is extracted.\r\n",
        "  - We need to make a model which can predict if the sentence/Headline given contains sarcasm or not\r\n",
        "  - This kind of models will help to predict trolling in news-Media by detecting whether article headline contains sarcasm or not.\r\n",
        "\r\n",
        "## Content of Dataset:\r\n",
        "Each record consists of three attributes:\r\n",
        "-  is_sarcastic: 1 if the record is sarcastic otherwise 0\r\n",
        "-  headline: the headline of the news article\r\n",
        "-  article_link: link to the original news article. Useful in collecting supplementary data"
      ]
    },
    {
      "cell_type": "markdown",
      "metadata": {
        "id": "_y8dtkdRcLSl"
      },
      "source": [
        "## 1.Downloading Dataset"
      ]
    },
    {
      "cell_type": "code",
      "metadata": {
        "id": "BQVuQrZNkPn9",
        "colab": {
          "base_uri": "https://localhost:8080/"
        },
        "outputId": "8458a975-e20a-49f0-964a-f90b326f8fa6"
      },
      "source": [
        "!wget --no-check-certificate \\\n",
        "    https://storage.googleapis.com/laurencemoroney-blog.appspot.com/sarcasm.json \\\n",
        "    -O /tmp/sarcasm.json\n"
      ],
      "execution_count": 5,
      "outputs": [
        {
          "output_type": "stream",
          "text": [
            "--2021-03-02 14:43:16--  https://storage.googleapis.com/laurencemoroney-blog.appspot.com/sarcasm.json\n",
            "Resolving storage.googleapis.com (storage.googleapis.com)... 74.125.206.128, 64.233.167.128, 74.125.133.128, ...\n",
            "Connecting to storage.googleapis.com (storage.googleapis.com)|74.125.206.128|:443... connected.\n",
            "HTTP request sent, awaiting response... 200 OK\n",
            "Length: 5643545 (5.4M) [application/json]\n",
            "Saving to: ‘/tmp/sarcasm.json’\n",
            "\n",
            "\r/tmp/sarcasm.json     0%[                    ]       0  --.-KB/s               \r/tmp/sarcasm.json   100%[===================>]   5.38M  --.-KB/s    in 0.07s   \n",
            "\n",
            "2021-03-02 14:43:16 (80.7 MB/s) - ‘/tmp/sarcasm.json’ saved [5643545/5643545]\n",
            "\n"
          ],
          "name": "stdout"
        }
      ]
    },
    {
      "cell_type": "markdown",
      "metadata": {
        "id": "soKUcnc1cB5b"
      },
      "source": [
        "## 1.Importing libraries"
      ]
    },
    {
      "cell_type": "code",
      "metadata": {
        "id": "XYYDvoskkE61"
      },
      "source": [
        "import json\n",
        "import tensorflow as tf\n",
        "import matplotlib.pyplot as plt\n",
        "\n",
        "from tensorflow.keras.preprocessing.text import Tokenizer\n",
        "from tensorflow.keras.preprocessing.sequence import pad_sequences"
      ],
      "execution_count": 29,
      "outputs": []
    },
    {
      "cell_type": "markdown",
      "metadata": {
        "id": "-TyCbPh8cYyj"
      },
      "source": [
        "### Loading Dataset in our system"
      ]
    },
    {
      "cell_type": "code",
      "metadata": {
        "id": "oaLaaqhNkUPd",
        "colab": {
          "base_uri": "https://localhost:8080/"
        },
        "outputId": "83b9dd02-e762-429b-b524-d6390fd7e020"
      },
      "source": [
        "with open(\"/tmp/sarcasm.json\", 'r') as f:\n",
        "    datastore = json.load(f)\n",
        "print(datastore[:10])"
      ],
      "execution_count": 6,
      "outputs": [
        {
          "output_type": "stream",
          "text": [
            "[{'article_link': 'https://www.huffingtonpost.com/entry/versace-black-code_us_5861fbefe4b0de3a08f600d5', 'headline': \"former versace store clerk sues over secret 'black code' for minority shoppers\", 'is_sarcastic': 0}, {'article_link': 'https://www.huffingtonpost.com/entry/roseanne-revival-review_us_5ab3a497e4b054d118e04365', 'headline': \"the 'roseanne' revival catches up to our thorny political mood, for better and worse\", 'is_sarcastic': 0}, {'article_link': 'https://local.theonion.com/mom-starting-to-fear-son-s-web-series-closest-thing-she-1819576697', 'headline': \"mom starting to fear son's web series closest thing she will have to grandchild\", 'is_sarcastic': 1}, {'article_link': 'https://politics.theonion.com/boehner-just-wants-wife-to-listen-not-come-up-with-alt-1819574302', 'headline': 'boehner just wants wife to listen, not come up with alternative debt-reduction ideas', 'is_sarcastic': 1}, {'article_link': 'https://www.huffingtonpost.com/entry/jk-rowling-wishes-snape-happy-birthday_us_569117c4e4b0cad15e64fdcb', 'headline': 'j.k. rowling wishes snape happy birthday in the most magical way', 'is_sarcastic': 0}, {'article_link': 'https://www.huffingtonpost.com/entry/advancing-the-worlds-women_b_6810038.html', 'headline': \"advancing the world's women\", 'is_sarcastic': 0}, {'article_link': 'https://www.huffingtonpost.com/entry/how-meat-is-grown-in-a-lab_us_561d1189e4b0c5a1ce607e86', 'headline': 'the fascinating case for eating lab-grown meat', 'is_sarcastic': 0}, {'article_link': 'https://www.huffingtonpost.com/entry/boxed-college-tuition-ben_n_7445644.html', 'headline': 'this ceo will send your kids to school, if you work for his company', 'is_sarcastic': 0}, {'article_link': 'https://politics.theonion.com/top-snake-handler-leaves-sinking-huckabee-campaign-1819578231', 'headline': 'top snake handler leaves sinking huckabee campaign', 'is_sarcastic': 1}, {'article_link': 'https://www.huffingtonpost.com/entry/fridays-morning-email-inside-trumps-presser-for-the-ages_us_58a6e33ee4b07602ad53a315', 'headline': \"friday's morning email: inside trump's presser for the ages\", 'is_sarcastic': 0}]\n"
          ],
          "name": "stdout"
        }
      ]
    },
    {
      "cell_type": "code",
      "metadata": {
        "colab": {
          "base_uri": "https://localhost:8080/"
        },
        "id": "YPylskordCok",
        "outputId": "b6dc405f-8ff0-4658-a5ea-d0c8a6ee57d6"
      },
      "source": [
        "len(datastore)"
      ],
      "execution_count": 31,
      "outputs": [
        {
          "output_type": "execute_result",
          "data": {
            "text/plain": [
              "26709"
            ]
          },
          "metadata": {
            "tags": []
          },
          "execution_count": 31
        }
      ]
    },
    {
      "cell_type": "markdown",
      "metadata": {
        "id": "s1WlCLrLdZeX"
      },
      "source": [
        "#### Contains 26709 Text sentences with labels and article_link "
      ]
    },
    {
      "cell_type": "markdown",
      "metadata": {
        "id": "WMnYOKf7dmsQ"
      },
      "source": [
        "# 2.Splitting data into training/testing set and features/labels"
      ]
    },
    {
      "cell_type": "code",
      "metadata": {
        "id": "n7aKZqwDxeAy"
      },
      "source": [
        "sentences = []\r\n",
        "labels = []\r\n",
        "                            #Extracting Headlines and labels from dataset\r\n",
        "for item in datastore:\r\n",
        "    sentences.append(item['headline'])\r\n",
        "    labels.append(item['is_sarcastic'])"
      ],
      "execution_count": 69,
      "outputs": []
    },
    {
      "cell_type": "code",
      "metadata": {
        "id": "S1sD-7v0kYWk"
      },
      "source": [
        "training_sentences = sentences[0:training_size]\n",
        "testing_sentences = sentences[training_size:]\n",
        "training_labels = labels[0:training_size]\n",
        "testing_labels = labels[training_size:]"
      ],
      "execution_count": 8,
      "outputs": []
    },
    {
      "cell_type": "markdown",
      "metadata": {
        "id": "JX8vNTyGfDUh"
      },
      "source": [
        "# 3.Tokenizing and Padding"
      ]
    },
    {
      "cell_type": "code",
      "metadata": {
        "id": "0eJSTTYnkJQd"
      },
      "source": [
        "#Defining Hyperparameters\n",
        "vocab_size = 10000 \n",
        "embedding_dim = 16\n",
        "max_length = 100\n",
        "trunc_type='post'\n",
        "padding_type='post'\n",
        "oov_tok = \"<OOV>\"\n",
        "training_size = 20000\n"
      ],
      "execution_count": 30,
      "outputs": []
    },
    {
      "cell_type": "code",
      "metadata": {
        "id": "3u8UB0MCkZ5N"
      },
      "source": [
        "tokenizer = Tokenizer(num_words=vocab_size, oov_token=oov_tok)\n",
        "tokenizer.fit_on_texts(training_sentences)\n",
        "\n",
        "word_index = tokenizer.word_index\n",
        "\n",
        "training_sequences = tokenizer.texts_to_sequences(training_sentences) #Tokenzing\n",
        "training_padded = pad_sequences(training_sequences, maxlen=max_length, padding=padding_type, truncating=trunc_type)#padding\n",
        "\n",
        "testing_sequences = tokenizer.texts_to_sequences(testing_sentences)\n",
        "testing_padded = pad_sequences(testing_sequences, maxlen=max_length, padding=padding_type, truncating=trunc_type)\n",
        "\n",
        "import numpy as np  # converting into numpy array\n",
        "training_padded = np.array(training_padded)\n",
        "training_labels = np.array(training_labels)\n",
        "testing_padded = np.array(testing_padded)\n",
        "testing_labels = np.array(testing_labels)"
      ],
      "execution_count": 33,
      "outputs": []
    },
    {
      "cell_type": "markdown",
      "metadata": {
        "id": "Ixo3OiujgRDJ"
      },
      "source": [
        "# 4.Modelling"
      ]
    },
    {
      "cell_type": "markdown",
      "metadata": {
        "id": "3HqDziHpgUqC"
      },
      "source": [
        "### Model1: General DNN Model"
      ]
    },
    {
      "cell_type": "code",
      "metadata": {
        "id": "FufaT4vlkiDE"
      },
      "source": [
        "model1= tf.keras.Sequential([\n",
        "    tf.keras.layers.Embedding(vocab_size, embedding_dim, input_length=max_length),\n",
        "    tf.keras.layers.GlobalAveragePooling1D(),\n",
        "    tf.keras.layers.Dense(24, activation='relu'),\n",
        "    tf.keras.layers.Dense(1, activation='sigmoid')\n",
        "])\n",
        "model1.compile(loss='binary_crossentropy',optimizer='adam',metrics=['accuracy'])"
      ],
      "execution_count": 38,
      "outputs": []
    },
    {
      "cell_type": "code",
      "metadata": {
        "id": "2DTKQFf1kkyc",
        "colab": {
          "base_uri": "https://localhost:8080/"
        },
        "outputId": "9865aac0-14a1-4c06-b1dd-c617e39b5377"
      },
      "source": [
        "history1 = model1.fit(training_padded, training_labels, epochs=5, validation_data=(testing_padded, testing_labels), verbose=2)"
      ],
      "execution_count": 57,
      "outputs": [
        {
          "output_type": "stream",
          "text": [
            "Epoch 1/5\n",
            "625/625 - 3s - loss: 0.1088 - accuracy: 0.9621 - val_loss: 0.4584 - val_accuracy: 0.8451\n",
            "Epoch 2/5\n",
            "625/625 - 3s - loss: 0.0994 - accuracy: 0.9665 - val_loss: 0.4869 - val_accuracy: 0.8420\n",
            "Epoch 3/5\n",
            "625/625 - 3s - loss: 0.0910 - accuracy: 0.9693 - val_loss: 0.5153 - val_accuracy: 0.8393\n",
            "Epoch 4/5\n",
            "625/625 - 3s - loss: 0.0814 - accuracy: 0.9730 - val_loss: 0.5420 - val_accuracy: 0.8384\n",
            "Epoch 5/5\n",
            "625/625 - 3s - loss: 0.0758 - accuracy: 0.9744 - val_loss: 0.5839 - val_accuracy: 0.8335\n"
          ],
          "name": "stdout"
        }
      ]
    },
    {
      "cell_type": "code",
      "metadata": {
        "id": "2HYfBKXjkmU8",
        "colab": {
          "base_uri": "https://localhost:8080/",
          "height": 573
        },
        "outputId": "0ca8a8d3-abf8-41fe-95e8-4b64959dc07c"
      },
      "source": [
        "import matplotlib.pyplot as plt\n",
        "def plot_graphs(history, string):\n",
        "  plt.plot(history1.history[string])\n",
        "  plt.plot(history1.history['val_'+string])\n",
        "  plt.title('Deneral DNN')\n",
        "  plt.xlabel(\"Epochs\")\n",
        "  plt.ylabel(string)\n",
        "  plt.legend([string, 'val_'+string])\n",
        "  plt.show()\n",
        "  \n",
        "plot_graphs(history1, \"accuracy\")\n",
        "plot_graphs(history1, \"loss\")"
      ],
      "execution_count": 87,
      "outputs": [
        {
          "output_type": "display_data",
          "data": {
            "image/png": "[encoded data removed]",
            "text/plain": [
              "<Figure size 432x288 with 1 Axes>"
            ]
          },
          "metadata": {
            "tags": [],
            "needs_background": "light"
          }
        },
        {
          "output_type": "display_data",
          "data": {
            "image/png": "[encoded data removed]",
            "text/plain": [
              "<Figure size 432x288 with 1 Axes>"
            ]
          },
          "metadata": {
            "tags": [],
            "needs_background": "light"
          }
        }
      ]
    },
    {
      "cell_type": "markdown",
      "metadata": {
        "id": "7J0pXA1gf4vt"
      },
      "source": [
        "### Overfitting from starting"
      ]
    },
    {
      "cell_type": "markdown",
      "metadata": {
        "id": "O__KZTosyS5y"
      },
      "source": [
        "## Model2: Using LSTM"
      ]
    },
    {
      "cell_type": "code",
      "metadata": {
        "colab": {
          "base_uri": "https://localhost:8080/"
        },
        "id": "VMYZBytkhIkT",
        "outputId": "3dacf590-8091-4b6a-9382-47c8493c6986"
      },
      "source": [
        "model2 = tf.keras.Sequential([\r\n",
        "    tf.keras.layers.Embedding(vocab_size, embedding_dim, input_length=max_length),\r\n",
        "    tf.keras.layers.Bidirectional(tf.keras.layers.LSTM(6,dropout=0.3)),\r\n",
        "    tf.keras.layers.Dropout(0.4),\r\n",
        "    tf.keras.layers.Dense(10, activation='relu'),\r\n",
        "    tf.keras.layers.Dropout(0.4),\r\n",
        "    tf.keras.layers.Dense(1, activation='sigmoid')\r\n",
        "])\r\n",
        "model2.compile(loss='binary_crossentropy',optimizer='adam',metrics=['accuracy'])\r\n",
        "model2.summary()"
      ],
      "execution_count": 71,
      "outputs": [
        {
          "output_type": "stream",
          "text": [
            "Model: \"sequential_15\"\n",
            "_________________________________________________________________\n",
            "Layer (type)                 Output Shape              Param #   \n",
            "=================================================================\n",
            "embedding_16 (Embedding)     (None, 100, 16)           160000    \n",
            "_________________________________________________________________\n",
            "bidirectional_13 (Bidirectio (None, 12)                1104      \n",
            "_________________________________________________________________\n",
            "dropout_6 (Dropout)          (None, 12)                0         \n",
            "_________________________________________________________________\n",
            "dense_30 (Dense)             (None, 10)                130       \n",
            "_________________________________________________________________\n",
            "dropout_7 (Dropout)          (None, 10)                0         \n",
            "_________________________________________________________________\n",
            "dense_31 (Dense)             (None, 1)                 11        \n",
            "=================================================================\n",
            "Total params: 161,245\n",
            "Trainable params: 161,245\n",
            "Non-trainable params: 0\n",
            "_________________________________________________________________\n"
          ],
          "name": "stdout"
        }
      ]
    },
    {
      "cell_type": "code",
      "metadata": {
        "colab": {
          "base_uri": "https://localhost:8080/"
        },
        "id": "KpBryoz5xN9p",
        "outputId": "44d9db9e-4d26-43d2-b967-9a15d41a6569"
      },
      "source": [
        "history2=model2.fit(training_padded,training_labels,validation_data=(testing_padded,testing_labels),epochs=5)"
      ],
      "execution_count": 84,
      "outputs": [
        {
          "output_type": "stream",
          "text": [
            "Epoch 1/5\n",
            "625/625 [==============================] - 36s 53ms/step - loss: 0.6254 - accuracy: 0.6289 - val_loss: 0.3565 - val_accuracy: 0.8472\n",
            "Epoch 2/5\n",
            "625/625 [==============================] - 32s 52ms/step - loss: 0.3333 - accuracy: 0.8773 - val_loss: 0.3420 - val_accuracy: 0.8524\n",
            "Epoch 3/5\n",
            "625/625 [==============================] - 32s 52ms/step - loss: 0.2418 - accuracy: 0.9191 - val_loss: 0.3599 - val_accuracy: 0.8530\n",
            "Epoch 4/5\n",
            "625/625 [==============================] - 33s 52ms/step - loss: 0.1881 - accuracy: 0.9382 - val_loss: 0.4307 - val_accuracy: 0.8477\n",
            "Epoch 5/5\n",
            "625/625 [==============================] - 32s 52ms/step - loss: 0.1611 - accuracy: 0.9486 - val_loss: 0.4358 - val_accuracy: 0.8505\n"
          ],
          "name": "stdout"
        }
      ]
    },
    {
      "cell_type": "code",
      "metadata": {
        "colab": {
          "base_uri": "https://localhost:8080/",
          "height": 573
        },
        "id": "Jp0jq5_Iuy5v",
        "outputId": "7a1b222a-bcdf-4df3-da3f-e7b0a22de8fc"
      },
      "source": [
        "import matplotlib.pyplot as plt\r\n",
        "def plot_graphs(history, string):\r\n",
        "  plt.plot(history2.history[string])\r\n",
        "  plt.plot(history2.history['val_'+string])\r\n",
        "  plt.title('LSTM MODEL')\r\n",
        "  plt.xlabel(\"Epochs\")\r\n",
        "  plt.ylabel(string)\r\n",
        "  plt.legend([string, 'val_'+string])\r\n",
        "  plt.show()\r\n",
        "  \r\n",
        "plot_graphs(history2, \"accuracy\")\r\n",
        "plot_graphs(history2, \"loss\")"
      ],
      "execution_count": 86,
      "outputs": [
        {
          "output_type": "display_data",
          "data": {
            "image/png": "[encoded data removed]",
            "text/plain": [
              "<Figure size 432x288 with 1 Axes>"
            ]
          },
          "metadata": {
            "tags": [],
            "needs_background": "light"
          }
        },
        {
          "output_type": "display_data",
          "data": {
            "image/png": "[encoded data removed]",
            "text/plain": [
              "<Figure size 432x288 with 1 Axes>"
            ]
          },
          "metadata": {
            "tags": [],
            "needs_background": "light"
          }
        }
      ]
    },
    {
      "cell_type": "markdown",
      "metadata": {
        "id": "lBGlTW9Ty3_N"
      },
      "source": [
        "## Model3: Using LSTM+GRU Layer"
      ]
    },
    {
      "cell_type": "code",
      "metadata": {
        "id": "L0uffZiBjJYB"
      },
      "source": [
        "model3 = tf.keras.Sequential([\r\n",
        "    tf.keras.layers.Embedding(vocab_size, embedding_dim, input_length=max_length),\r\n",
        "    tf.keras.layers.Dropout(0.5),\r\n",
        "    tf.keras.layers.Bidirectional(tf.keras.layers.GRU(8,dropout=0.3,return_sequences=True)),\r\n",
        "    tf.keras.layers.Bidirectional(tf.keras.layers.LSTM(6,dropout=0.3)),\r\n",
        "    tf.keras.layers.Dropout(0.5),\r\n",
        "    tf.keras.layers.Dense(6, activation='relu'),\r\n",
        "    tf.keras.layers.Dense(1, activation='sigmoid')\r\n",
        "])\r\n",
        "model3.compile(loss='binary_crossentropy',optimizer='adam',metrics=['accuracy'])\r\n",
        "#model.summary()\r\n"
      ],
      "execution_count": 79,
      "outputs": []
    },
    {
      "cell_type": "code",
      "metadata": {
        "colab": {
          "base_uri": "https://localhost:8080/",
          "height": 573
        },
        "id": "29KxD_rpxHZB",
        "outputId": "a6f8da86-2ef9-454f-ca05-1251fe98f241"
      },
      "source": [
        "import matplotlib.pyplot as plt\r\n",
        "def plot_graphs(history, string):\r\n",
        "  plt.plot(history3.history[string])\r\n",
        "  plt.plot(history3.history['val_'+string])\r\n",
        "  plt.title('LSTM/GRU Model')\r\n",
        "  plt.xlabel(\"Epochs\")\r\n",
        "  plt.ylabel(string)\r\n",
        "  plt.legend([string, 'val_'+string])\r\n",
        "  plt.show()\r\n",
        "  \r\n",
        "plot_graphs(history3, \"accuracy\")\r\n",
        "plot_graphs(history3, \"loss\")"
      ],
      "execution_count": 88,
      "outputs": [
        {
          "output_type": "display_data",
          "data": {
            "image/png": "[encoded data removed]",
            "text/plain": [
              "<Figure size 432x288 with 1 Axes>"
            ]
          },
          "metadata": {
            "tags": [],
            "needs_background": "light"
          }
        },
        {
          "output_type": "display_data",
          "data": {
            "image/png": "[encoded data removed]",
            "text/plain": [
              "<Figure size 432x288 with 1 Axes>"
            ]
          },
          "metadata": {
            "tags": [],
            "needs_background": "light"
          }
        }
      ]
    },
    {
      "cell_type": "code",
      "metadata": {
        "colab": {
          "base_uri": "https://localhost:8080/"
        },
        "id": "SVJPhY-9jZkN",
        "outputId": "b15be8c9-a892-4efe-cd01-a8d07438094c"
      },
      "source": [
        "history3=model3.fit(training_padded,training_labels,validation_data=(testing_padded,testing_labels),epochs=5)"
      ],
      "execution_count": 80,
      "outputs": [
        {
          "output_type": "stream",
          "text": [
            "Epoch 1/5\n",
            "625/625 [==============================] - 75s 112ms/step - loss: 0.6209 - accuracy: 0.6378 - val_loss: 0.3644 - val_accuracy: 0.8396\n",
            "Epoch 2/5\n",
            "625/625 [==============================] - 68s 109ms/step - loss: 0.3522 - accuracy: 0.8600 - val_loss: 0.3419 - val_accuracy: 0.8508\n",
            "Epoch 3/5\n",
            "625/625 [==============================] - 68s 109ms/step - loss: 0.2832 - accuracy: 0.8939 - val_loss: 0.3558 - val_accuracy: 0.8514\n",
            "Epoch 4/5\n",
            "625/625 [==============================] - 68s 109ms/step - loss: 0.2452 - accuracy: 0.9091 - val_loss: 0.3682 - val_accuracy: 0.8493\n",
            "Epoch 5/5\n",
            "625/625 [==============================] - 68s 109ms/step - loss: 0.2151 - accuracy: 0.9200 - val_loss: 0.3675 - val_accuracy: 0.8547\n"
          ],
          "name": "stdout"
        }
      ]
    },
    {
      "cell_type": "markdown",
      "metadata": {
        "id": "ZCUIEE7mzJ8O"
      },
      "source": [
        "# Conclusion: \r\n",
        "- Model1(General DNN) Overfitted from start and Validation_acc=83.35%\r\n",
        "- Model2(LSTM) also overfitted after 1 layer but worked better than general DNN Val_acc=85%\r\n",
        "- Model3(LSTM+GRU) gave Val_acc=85.47%"
      ]
    },
    {
      "cell_type": "markdown",
      "metadata": {
        "id": "Vxd1gnq4bmlF"
      },
      "source": [
        "## Evaluating Model:"
      ]
    },
    {
      "cell_type": "code",
      "metadata": {
        "colab": {
          "base_uri": "https://localhost:8080/"
        },
        "id": "94_RV_uqbd7u",
        "outputId": "26845724-b323-4adc-819c-03bb4bb6fbcf"
      },
      "source": [
        "results = model.evaluate(testing_padded, testing_labels)\r\n",
        "print(results)\r\n",
        "results2 = model2.evaluate(testing_padded, testing_labels)\r\n",
        "print(results2)\r\n",
        "results3 = model3.evaluate(testing_padded, testing_labels)\r\n",
        "print(results3)"
      ],
      "execution_count": 81,
      "outputs": [
        {
          "output_type": "stream",
          "text": [
            "210/210 [==============================] - 1s 2ms/step - loss: 1.2380 - accuracy: 0.8069\n",
            "[1.2515857219696045, 0.8115963339805603]\n",
            "210/210 [==============================] - 3s 14ms/step - loss: 0.5422 - accuracy: 0.8515\n",
            "[0.5422097444534302, 0.8515427112579346]\n",
            "210/210 [==============================] - 7s 36ms/step - loss: 0.3675 - accuracy: 0.8547\n",
            "[0.36745506525039673, 0.8546728491783142]\n"
          ],
          "name": "stdout"
        }
      ]
    },
    {
      "cell_type": "markdown",
      "metadata": {
        "id": "Ssw8nlerz3SO"
      },
      "source": [
        "## Model3(LSTM+GRU) giving best result on test data :val_acc=85.47%"
      ]
    },
    {
      "cell_type": "markdown",
      "metadata": {
        "id": "fE5neRKIa8LB"
      },
      "source": [
        "## Predicting Sentences whether they are Sarcastic or not"
      ]
    },
    {
      "cell_type": "code",
      "metadata": {
        "id": "cG8-ArY-qDcz",
        "colab": {
          "base_uri": "https://localhost:8080/"
        },
        "outputId": "0dbf1830-0fb3-45a2-cd5a-5959a2b3189a"
      },
      "source": [
        "sarcastic_headlines = [\"granny starting to fear spiders in the garden might be real\",'man killed his wife in dream, police asking for real arrest warrent']\n",
        "non_sarcastic_headlines=['New movie releasing in theatres tomorrow, all people excited','1 man got conned in a show']\n",
        "\n",
        "def predict(sentence):\n",
        "   sequences = tokenizer.texts_to_sequences(sentence)\n",
        "   padded = pad_sequences(sequences, maxlen=max_length, padding=padding_type, truncating=trunc_type)\n",
        "   return (model3.predict(padded)*100)\n",
        "print('Probability array of the sentences being sarcastic is ',predict(sarcastic_headlines))\n",
        "print('Probability array of the sentences being Non-sarcastic is ',predict(non_sarcastic_headlines))  "
      ],
      "execution_count": 100,
      "outputs": [
        {
          "output_type": "stream",
          "text": [
            "Probability array of the sentences being sarcastic is  [[77.12001]\n",
            " [82.23778]]\n",
            "Probability array of the sentences being Non-sarcastic is  [[97.52943 ]\n",
            " [11.956638]]\n"
          ],
          "name": "stdout"
        }
      ]
    },
    {
      "cell_type": "markdown",
      "metadata": {
        "id": "C40t2qP3bx_S"
      },
      "source": [
        "### Converting into vecs.tsv , meta.tsv to visualise words embeddings "
      ]
    },
    {
      "cell_type": "code",
      "metadata": {
        "id": "LoBXVffknldU"
      },
      "source": [
        "import io\n",
        "\n",
        "out_v = io.open('vecs.tsv', 'w', encoding='utf-8')\n",
        "out_m = io.open('meta.tsv', 'w', encoding='utf-8')\n",
        "for word_num in range(1, vocab_size):\n",
        "  word = reverse_word_index[word_num]\n",
        "  embeddings = weights[word_num]\n",
        "  out_m.write(word + \"\\n\")\n",
        "  out_v.write('\\t'.join([str(x) for x in embeddings]) + \"\\n\")\n",
        "out_v.close()\n",
        "out_m.close()"
      ],
      "execution_count": 101,
      "outputs": []
    },
    {
      "cell_type": "code",
      "metadata": {
        "id": "U4eZ5HtVnnEE",
        "colab": {
          "base_uri": "https://localhost:8080/",
          "height": 17
        },
        "outputId": "bda36a92-813e-4086-e3c1-03b629e9ed18"
      },
      "source": [
        "try:\n",
        "  from google.colab import files\n",
        "except ImportError:\n",
        "  pass\n",
        "else:\n",
        "  files.download('vecs.tsv')\n",
        "  files.download('meta.tsv')"
      ],
      "execution_count": 103,
      "outputs": [
        {
          "output_type": "display_data",
          "data": {
            "application/javascript": [
              "\n",
              "    async function download(id, filename, size) {\n",
              "      if (!google.colab.kernel.accessAllowed) {\n",
              "        return;\n",
              "      }\n",
              "      const div = document.createElement('div');\n",
              "      const label = document.createElement('label');\n",
              "      label.textContent = `Downloading \"${filename}\": `;\n",
              "      div.appendChild(label);\n",
              "      const progress = document.createElement('progress');\n",
              "      progress.max = size;\n",
              "      div.appendChild(progress);\n",
              "      document.body.appendChild(div);\n",
              "\n",
              "      const buffers = [];\n",
              "      let downloaded = 0;\n",
              "\n",
              "      const channel = await google.colab.kernel.comms.open(id);\n",
              "      // Send a message to notify the kernel that we're ready.\n",
              "      channel.send({})\n",
              "\n",
              "      for await (const message of channel.messages) {\n",
              "        // Send a message to notify the kernel that we're ready.\n",
              "        channel.send({})\n",
              "        if (message.buffers) {\n",
              "          for (const buffer of message.buffers) {\n",
              "            buffers.push(buffer);\n",
              "            downloaded += buffer.byteLength;\n",
              "            progress.value = downloaded;\n",
              "          }\n",
              "        }\n",
              "      }\n",
              "      const blob = new Blob(buffers, {type: 'application/binary'});\n",
              "      const a = document.createElement('a');\n",
              "      a.href = window.URL.createObjectURL(blob);\n",
              "      a.download = filename;\n",
              "      div.appendChild(a);\n",
              "      a.click();\n",
              "      div.remove();\n",
              "    }\n",
              "  "
            ],
            "text/plain": [
              "<IPython.core.display.Javascript object>"
            ]
          },
          "metadata": {
            "tags": []
          }
        },
        {
          "output_type": "display_data",
          "data": {
            "application/javascript": [
              "download(\"download_f19c6ac5-3d3c-45a2-846a-543bcc2b8e7c\", \"vecs.tsv\", 1818541)"
            ],
            "text/plain": [
              "<IPython.core.display.Javascript object>"
            ]
          },
          "metadata": {
            "tags": []
          }
        },
        {
          "output_type": "display_data",
          "data": {
            "application/javascript": [
              "\n",
              "    async function download(id, filename, size) {\n",
              "      if (!google.colab.kernel.accessAllowed) {\n",
              "        return;\n",
              "      }\n",
              "      const div = document.createElement('div');\n",
              "      const label = document.createElement('label');\n",
              "      label.textContent = `Downloading \"${filename}\": `;\n",
              "      div.appendChild(label);\n",
              "      const progress = document.createElement('progress');\n",
              "      progress.max = size;\n",
              "      div.appendChild(progress);\n",
              "      document.body.appendChild(div);\n",
              "\n",
              "      const buffers = [];\n",
              "      let downloaded = 0;\n",
              "\n",
              "      const channel = await google.colab.kernel.comms.open(id);\n",
              "      // Send a message to notify the kernel that we're ready.\n",
              "      channel.send({})\n",
              "\n",
              "      for await (const message of channel.messages) {\n",
              "        // Send a message to notify the kernel that we're ready.\n",
              "        channel.send({})\n",
              "        if (message.buffers) {\n",
              "          for (const buffer of message.buffers) {\n",
              "            buffers.push(buffer);\n",
              "            downloaded += buffer.byteLength;\n",
              "            progress.value = downloaded;\n",
              "          }\n",
              "        }\n",
              "      }\n",
              "      const blob = new Blob(buffers, {type: 'application/binary'});\n",
              "      const a = document.createElement('a');\n",
              "      a.href = window.URL.createObjectURL(blob);\n",
              "      a.download = filename;\n",
              "      div.appendChild(a);\n",
              "      a.click();\n",
              "      div.remove();\n",
              "    }\n",
              "  "
            ],
            "text/plain": [
              "<IPython.core.display.Javascript object>"
            ]
          },
          "metadata": {
            "tags": []
          }
        },
        {
          "output_type": "display_data",
          "data": {
            "application/javascript": [
              "download(\"download_eda5febf-4947-4476-b9ca-d7f63f31b269\", \"meta.tsv\", 75974)"
            ],
            "text/plain": [
              "<IPython.core.display.Javascript object>"
            ]
          },
          "metadata": {
            "tags": []
          }
        }
      ]
    },
    {
      "cell_type": "code",
      "metadata": {
        "id": "KXnhho4G2wOU"
      },
      "source": [
        ""
      ],
      "execution_count": null,
      "outputs": []
    }
  ]
}